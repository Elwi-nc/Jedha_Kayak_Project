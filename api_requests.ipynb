{
 "cells": [
  {
   "cell_type": "code",
   "execution_count": 1,
   "id": "6b4d66e2-d503-478d-bfb6-c6f0e6083774",
   "metadata": {},
   "outputs": [],
   "source": [
    "city_list = [\"Mont Saint Michel\", \"St Malo\", \"Bayeux\", \"Le Havre\", \"Rouen\", \"Paris\", \"Amiens\", \"Lille\", \"Strasbourg\", \"Chateau du Haut Koenigsbourg\", \"Colmar\", \"Eguisheim\", \n",
    "             \"Besancon\", \"Dijon\", \"Annecy\", \"Grenoble\", \"Lyon\", \"Gorges du Verdon\", \"Bormes les Mimosas\", \"Cassis\", \"Marseille\", \"Aix en Provence\", \"Avignon\", \"Uzes\",\n",
    "             \"Nimes\", \"Aigues Mortes\", \"Saintes Maries de la mer\", \"Collioure\", \"Carcassonne\", \"Ariege\", \"Toulouse\", \"Montauban\", \"Biarritz\", \"Bayonne\", \"La Rochelle\"]"
   ]
  },
  {
   "cell_type": "code",
   "execution_count": 2,
   "id": "edf8b7bd-d5b9-44d9-bdda-36cf4d4dc3cd",
   "metadata": {},
   "outputs": [],
   "source": [
    "import requests\n",
    "import pandas as pd\n",
    "import json"
   ]
  },
  {
   "cell_type": "code",
   "execution_count": 3,
   "id": "6a7983d8-16b4-4150-9067-5ef45e521303",
   "metadata": {},
   "outputs": [],
   "source": [
    "# Ici je créée un dataframe contenant le nom de mes 35 sites\n",
    "df = pd.DataFrame(city_list, columns=['City'])"
   ]
  },
  {
   "cell_type": "code",
   "execution_count": 4,
   "id": "916ec738-7a49-405b-b018-58c361fa4b98",
   "metadata": {},
   "outputs": [],
   "source": [
    "# Ici je viens ajouter 3 colonnes à mon dataframe afin de stocker la donnée coloctée :\n",
    "df['verif'] = ''\n",
    "df['lat'] = ''\n",
    "df['lon'] = ''"
   ]
  },
  {
   "cell_type": "code",
   "execution_count": 5,
   "id": "c7442090-0bbe-47da-af34-4f50c170774c",
   "metadata": {},
   "outputs": [],
   "source": [
    "# Itération sur l'API nominatim :\n",
    "url = 'https://nominatim.openstreetmap.org/search.php?'\n",
    "#request = f'city=<{city}>&format=jsonv2'\n",
    "lookups = ['display_name', 'lat', 'lon']\n",
    "\n",
    "#loc_dict = []\n",
    "city = df['City']\n",
    "\n",
    "for i in range(len(df)):\n",
    "    try:\n",
    "        r = requests.get(url+f'q={city[i]}&countrycodes=FR&format=jsonv2').json()\n",
    "        verif = r[0]['display_name']\n",
    "        lat = round(float(r[0]['lat']), 2)\n",
    "        #lat = requests.get(url+f'city=<{city}>&format=jsonv2')[1]['lat']\n",
    "        lon = round(float(r[0]['lon']), 2)\n",
    "        #lon = requests.get(url+f'city=<{city}>&format=jsonv2')[1]['lon']\n",
    "        #print(f'{city[i]}, {verif}, {lat}, {lon}')\n",
    "        df['lat'][i] = lat\n",
    "        df['lon'][i] = lon\n",
    "        df['verif'][i] = verif\n",
    "    except:\n",
    "        print('erreur')\n",
    "        #df.drop(df.index[i], inplace=True)\n",
    "\n"
   ]
  },
  {
   "cell_type": "code",
   "execution_count": 14,
   "id": "7ecf906c-356e-460a-b6ae-36ac62c0527c",
   "metadata": {},
   "outputs": [],
   "source": [
    "# Ici j'ajoute mes colonnes moyenne précipitations pour les 7 prochains jours et moyenne de pluie pour les 7 prochains jours à mon dataframe\n",
    "df['mean_7d_precipitation'] = ''\n",
    "df['mean_7d_rain'] = ''\n",
    "df['mean_7d_temp_min'] = ''\n",
    "df['mean_7d_temp_max'] = ''"
   ]
  },
  {
   "cell_type": "code",
   "execution_count": 15,
   "id": "3434d4a5-491a-48ae-b9ec-3520e77fb88d",
   "metadata": {},
   "outputs": [],
   "source": [
    "# Ici j'itère sur mon API afin de récupèrer les conditions méteos en termes de précipitation et de pluie pour chacun de mes sites, en utilisant la lattitude et la longitude\n",
    "# des sites pour procéder au requettes \n",
    "# J'extraie ainsi la moyenne des valeurs cherchées pour les 7 prochains jours pour chaque site\n",
    "lat = df['lat']\n",
    "lon = df['lon']\n",
    "for i in range(len(df)):\n",
    "    try:\n",
    "        r = requests.get(f'https://api.open-meteo.com/v1/forecast?latitude={lat[i]}&longitude={lon[i]}&daily=precipitation_sum,rain_sum,temperature_2m_min,temperature_2m_max&timezone=Europe%2FBerlin').json()\n",
    "        df_meteo = pd.DataFrame(r['daily'])\n",
    "        mean_7d_prep = round(df_meteo['precipitation_sum'].mean(),2)\n",
    "        mean_7d_rain = round(df_meteo['rain_sum'].mean(), 2)\n",
    "        mean_7d_temp_min = round(df_meteo['temperature_2m_min'].mean(), 2)\n",
    "        mean_7d_temp_max = round(df_meteo['temperature_2m_max'].mean(), 2)\n",
    "\n",
    "        df['mean_7d_precipitation'][i] = mean_7d_prep\n",
    "        df['mean_7d_rain'][i] = mean_7d_rain\n",
    "        df['mean_7d_temp_min'][i] = mean_7d_temp_min\n",
    "        df['mean_7d_temp_max'][i] = mean_7d_temp_max\n",
    "    except:\n",
    "        print('erreur')\n",
    "        #df.drop(df.index[i], inplace=True)"
   ]
  },
  {
   "cell_type": "code",
   "execution_count": 19,
   "id": "af2220bb",
   "metadata": {},
   "outputs": [],
   "source": [
    "df.to_csv('src/meteo_villes_7j.csv')"
   ]
  },
  {
   "cell_type": "code",
   "execution_count": 16,
   "id": "344658d9",
   "metadata": {},
   "outputs": [
    {
     "name": "stderr",
     "output_type": "stream",
     "text": [
      "C:\\Users\\lucal\\AppData\\Local\\Temp\\ipykernel_19696\\2218954982.py:19: FutureWarning: The frame.append method is deprecated and will be removed from pandas in a future version. Use pandas.concat instead.\n",
      "  df_meteo_daily = df_meteo_daily.append(df_meteo_city)\n",
      "C:\\Users\\lucal\\AppData\\Local\\Temp\\ipykernel_19696\\2218954982.py:19: FutureWarning: The frame.append method is deprecated and will be removed from pandas in a future version. Use pandas.concat instead.\n",
      "  df_meteo_daily = df_meteo_daily.append(df_meteo_city)\n",
      "C:\\Users\\lucal\\AppData\\Local\\Temp\\ipykernel_19696\\2218954982.py:19: FutureWarning: The frame.append method is deprecated and will be removed from pandas in a future version. Use pandas.concat instead.\n",
      "  df_meteo_daily = df_meteo_daily.append(df_meteo_city)\n",
      "C:\\Users\\lucal\\AppData\\Local\\Temp\\ipykernel_19696\\2218954982.py:19: FutureWarning: The frame.append method is deprecated and will be removed from pandas in a future version. Use pandas.concat instead.\n",
      "  df_meteo_daily = df_meteo_daily.append(df_meteo_city)\n",
      "C:\\Users\\lucal\\AppData\\Local\\Temp\\ipykernel_19696\\2218954982.py:19: FutureWarning: The frame.append method is deprecated and will be removed from pandas in a future version. Use pandas.concat instead.\n",
      "  df_meteo_daily = df_meteo_daily.append(df_meteo_city)\n",
      "C:\\Users\\lucal\\AppData\\Local\\Temp\\ipykernel_19696\\2218954982.py:19: FutureWarning: The frame.append method is deprecated and will be removed from pandas in a future version. Use pandas.concat instead.\n",
      "  df_meteo_daily = df_meteo_daily.append(df_meteo_city)\n",
      "C:\\Users\\lucal\\AppData\\Local\\Temp\\ipykernel_19696\\2218954982.py:19: FutureWarning: The frame.append method is deprecated and will be removed from pandas in a future version. Use pandas.concat instead.\n",
      "  df_meteo_daily = df_meteo_daily.append(df_meteo_city)\n",
      "C:\\Users\\lucal\\AppData\\Local\\Temp\\ipykernel_19696\\2218954982.py:19: FutureWarning: The frame.append method is deprecated and will be removed from pandas in a future version. Use pandas.concat instead.\n",
      "  df_meteo_daily = df_meteo_daily.append(df_meteo_city)\n",
      "C:\\Users\\lucal\\AppData\\Local\\Temp\\ipykernel_19696\\2218954982.py:19: FutureWarning: The frame.append method is deprecated and will be removed from pandas in a future version. Use pandas.concat instead.\n",
      "  df_meteo_daily = df_meteo_daily.append(df_meteo_city)\n",
      "C:\\Users\\lucal\\AppData\\Local\\Temp\\ipykernel_19696\\2218954982.py:19: FutureWarning: The frame.append method is deprecated and will be removed from pandas in a future version. Use pandas.concat instead.\n",
      "  df_meteo_daily = df_meteo_daily.append(df_meteo_city)\n",
      "C:\\Users\\lucal\\AppData\\Local\\Temp\\ipykernel_19696\\2218954982.py:19: FutureWarning: The frame.append method is deprecated and will be removed from pandas in a future version. Use pandas.concat instead.\n",
      "  df_meteo_daily = df_meteo_daily.append(df_meteo_city)\n",
      "C:\\Users\\lucal\\AppData\\Local\\Temp\\ipykernel_19696\\2218954982.py:19: FutureWarning: The frame.append method is deprecated and will be removed from pandas in a future version. Use pandas.concat instead.\n",
      "  df_meteo_daily = df_meteo_daily.append(df_meteo_city)\n",
      "C:\\Users\\lucal\\AppData\\Local\\Temp\\ipykernel_19696\\2218954982.py:19: FutureWarning: The frame.append method is deprecated and will be removed from pandas in a future version. Use pandas.concat instead.\n",
      "  df_meteo_daily = df_meteo_daily.append(df_meteo_city)\n",
      "C:\\Users\\lucal\\AppData\\Local\\Temp\\ipykernel_19696\\2218954982.py:19: FutureWarning: The frame.append method is deprecated and will be removed from pandas in a future version. Use pandas.concat instead.\n",
      "  df_meteo_daily = df_meteo_daily.append(df_meteo_city)\n",
      "C:\\Users\\lucal\\AppData\\Local\\Temp\\ipykernel_19696\\2218954982.py:19: FutureWarning: The frame.append method is deprecated and will be removed from pandas in a future version. Use pandas.concat instead.\n",
      "  df_meteo_daily = df_meteo_daily.append(df_meteo_city)\n",
      "C:\\Users\\lucal\\AppData\\Local\\Temp\\ipykernel_19696\\2218954982.py:19: FutureWarning: The frame.append method is deprecated and will be removed from pandas in a future version. Use pandas.concat instead.\n",
      "  df_meteo_daily = df_meteo_daily.append(df_meteo_city)\n",
      "C:\\Users\\lucal\\AppData\\Local\\Temp\\ipykernel_19696\\2218954982.py:19: FutureWarning: The frame.append method is deprecated and will be removed from pandas in a future version. Use pandas.concat instead.\n",
      "  df_meteo_daily = df_meteo_daily.append(df_meteo_city)\n",
      "C:\\Users\\lucal\\AppData\\Local\\Temp\\ipykernel_19696\\2218954982.py:19: FutureWarning: The frame.append method is deprecated and will be removed from pandas in a future version. Use pandas.concat instead.\n",
      "  df_meteo_daily = df_meteo_daily.append(df_meteo_city)\n",
      "C:\\Users\\lucal\\AppData\\Local\\Temp\\ipykernel_19696\\2218954982.py:19: FutureWarning: The frame.append method is deprecated and will be removed from pandas in a future version. Use pandas.concat instead.\n",
      "  df_meteo_daily = df_meteo_daily.append(df_meteo_city)\n",
      "C:\\Users\\lucal\\AppData\\Local\\Temp\\ipykernel_19696\\2218954982.py:19: FutureWarning: The frame.append method is deprecated and will be removed from pandas in a future version. Use pandas.concat instead.\n",
      "  df_meteo_daily = df_meteo_daily.append(df_meteo_city)\n",
      "C:\\Users\\lucal\\AppData\\Local\\Temp\\ipykernel_19696\\2218954982.py:19: FutureWarning: The frame.append method is deprecated and will be removed from pandas in a future version. Use pandas.concat instead.\n",
      "  df_meteo_daily = df_meteo_daily.append(df_meteo_city)\n",
      "C:\\Users\\lucal\\AppData\\Local\\Temp\\ipykernel_19696\\2218954982.py:19: FutureWarning: The frame.append method is deprecated and will be removed from pandas in a future version. Use pandas.concat instead.\n",
      "  df_meteo_daily = df_meteo_daily.append(df_meteo_city)\n",
      "C:\\Users\\lucal\\AppData\\Local\\Temp\\ipykernel_19696\\2218954982.py:19: FutureWarning: The frame.append method is deprecated and will be removed from pandas in a future version. Use pandas.concat instead.\n",
      "  df_meteo_daily = df_meteo_daily.append(df_meteo_city)\n",
      "C:\\Users\\lucal\\AppData\\Local\\Temp\\ipykernel_19696\\2218954982.py:19: FutureWarning: The frame.append method is deprecated and will be removed from pandas in a future version. Use pandas.concat instead.\n",
      "  df_meteo_daily = df_meteo_daily.append(df_meteo_city)\n",
      "C:\\Users\\lucal\\AppData\\Local\\Temp\\ipykernel_19696\\2218954982.py:19: FutureWarning: The frame.append method is deprecated and will be removed from pandas in a future version. Use pandas.concat instead.\n",
      "  df_meteo_daily = df_meteo_daily.append(df_meteo_city)\n",
      "C:\\Users\\lucal\\AppData\\Local\\Temp\\ipykernel_19696\\2218954982.py:19: FutureWarning: The frame.append method is deprecated and will be removed from pandas in a future version. Use pandas.concat instead.\n",
      "  df_meteo_daily = df_meteo_daily.append(df_meteo_city)\n",
      "C:\\Users\\lucal\\AppData\\Local\\Temp\\ipykernel_19696\\2218954982.py:19: FutureWarning: The frame.append method is deprecated and will be removed from pandas in a future version. Use pandas.concat instead.\n",
      "  df_meteo_daily = df_meteo_daily.append(df_meteo_city)\n",
      "C:\\Users\\lucal\\AppData\\Local\\Temp\\ipykernel_19696\\2218954982.py:19: FutureWarning: The frame.append method is deprecated and will be removed from pandas in a future version. Use pandas.concat instead.\n",
      "  df_meteo_daily = df_meteo_daily.append(df_meteo_city)\n",
      "C:\\Users\\lucal\\AppData\\Local\\Temp\\ipykernel_19696\\2218954982.py:19: FutureWarning: The frame.append method is deprecated and will be removed from pandas in a future version. Use pandas.concat instead.\n",
      "  df_meteo_daily = df_meteo_daily.append(df_meteo_city)\n",
      "C:\\Users\\lucal\\AppData\\Local\\Temp\\ipykernel_19696\\2218954982.py:19: FutureWarning: The frame.append method is deprecated and will be removed from pandas in a future version. Use pandas.concat instead.\n",
      "  df_meteo_daily = df_meteo_daily.append(df_meteo_city)\n",
      "C:\\Users\\lucal\\AppData\\Local\\Temp\\ipykernel_19696\\2218954982.py:19: FutureWarning: The frame.append method is deprecated and will be removed from pandas in a future version. Use pandas.concat instead.\n",
      "  df_meteo_daily = df_meteo_daily.append(df_meteo_city)\n",
      "C:\\Users\\lucal\\AppData\\Local\\Temp\\ipykernel_19696\\2218954982.py:19: FutureWarning: The frame.append method is deprecated and will be removed from pandas in a future version. Use pandas.concat instead.\n",
      "  df_meteo_daily = df_meteo_daily.append(df_meteo_city)\n",
      "C:\\Users\\lucal\\AppData\\Local\\Temp\\ipykernel_19696\\2218954982.py:19: FutureWarning: The frame.append method is deprecated and will be removed from pandas in a future version. Use pandas.concat instead.\n",
      "  df_meteo_daily = df_meteo_daily.append(df_meteo_city)\n",
      "C:\\Users\\lucal\\AppData\\Local\\Temp\\ipykernel_19696\\2218954982.py:19: FutureWarning: The frame.append method is deprecated and will be removed from pandas in a future version. Use pandas.concat instead.\n",
      "  df_meteo_daily = df_meteo_daily.append(df_meteo_city)\n"
     ]
    }
   ],
   "source": [
    "lat = df['lat']\n",
    "lon = df['lon']\n",
    "city = df['City']\n",
    "\n",
    "r = requests.get(f'https://api.open-meteo.com/v1/forecast?latitude={48.64}&longitude={-1.51}&daily=precipitation_sum,rain_sum,temperature_2m_min,temperature_2m_max&timezone=Europe%2FBerlin').json()\n",
    "df_meteo_daily = pd.DataFrame(r['daily'])\n",
    "df_meteo_daily['city'] = df['City'][0]\n",
    "df_meteo_daily['lat'] = df['lat'][0]\n",
    "df_meteo_daily['lon'] = df['lon'][0]\n",
    "\n",
    "for i in range(1, len(df)):\n",
    "    try:\n",
    "        r = requests.get(f'https://api.open-meteo.com/v1/forecast?latitude={lat[i]}&longitude={lon[i]}&daily=precipitation_sum,rain_sum,temperature_2m_min,temperature_2m_max&timezone=Europe%2FBerlin').json()\n",
    "        df_meteo_city = pd.DataFrame(r['daily'])\n",
    "        df_meteo_city['city'] = city[i]\n",
    "        df_meteo_city['lat'] = lat[i]\n",
    "        df_meteo_city['lon'] = lon[i]\n",
    "\n",
    "        df_meteo_daily = df_meteo_daily.append(df_meteo_city)\n",
    "\n",
    "    except:\n",
    "        print('erreur')"
   ]
  },
  {
   "cell_type": "code",
   "execution_count": 25,
   "id": "2070d650",
   "metadata": {},
   "outputs": [],
   "source": [
    "df_meteo_daily = df_meteo_daily.reset_index()\n",
    "df_meteo_daily.to_csv('src/meteo_villes_daily.csv')"
   ]
  }
 ],
 "metadata": {
  "kernelspec": {
   "display_name": "Python 3.9.12 ('base')",
   "language": "python",
   "name": "python3"
  },
  "language_info": {
   "codemirror_mode": {
    "name": "ipython",
    "version": 3
   },
   "file_extension": ".py",
   "mimetype": "text/x-python",
   "name": "python",
   "nbconvert_exporter": "python",
   "pygments_lexer": "ipython3",
   "version": "3.9.12 (main, Apr  4 2022, 05:22:27) [MSC v.1916 64 bit (AMD64)]"
  },
  "vscode": {
   "interpreter": {
    "hash": "d9e0f6ae9da66b2168163a3a26a5e9ce38f0ee3f75addcc03ea021bc18ea4a9c"
   }
  }
 },
 "nbformat": 4,
 "nbformat_minor": 5
}
